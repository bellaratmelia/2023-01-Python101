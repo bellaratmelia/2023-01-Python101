{
 "cells": [
  {
   "cell_type": "markdown",
   "metadata": {},
   "source": [
    "# About this notebook\n",
    " This notebook is created by Bella Ratmelia (bellar@smu.edu.sg) for SMU Libraries' Python 101 Part 1 bite-sized workshop on 19 January and 31 January 2022"
   ]
  },
  {
   "cell_type": "markdown",
   "metadata": {
    "id": "LFabUF9EHcoM"
   },
   "source": [
    "# Section 1: Getting Started"
   ]
  },
  {
   "cell_type": "code",
   "execution_count": null,
   "metadata": {
    "id": "pBWUWUTGHFIF"
   },
   "outputs": [],
   "source": [
    "print(\"This is a code cell, where all your codes should go to. Whatever output this cell produces will be displayed in the cell below\")"
   ]
  },
  {
   "cell_type": "markdown",
   "metadata": {
    "id": "BcJqC9FHHFIQ"
   },
   "source": [
    "**This a markdown cell**\n",
    "\n",
    "*   Markdown is a markup language to format text. \n",
    "*   Markdown cells produces no output, this is typically where you put your explanations/commentary on the notebook.\n"
   ]
  },
  {
   "cell_type": "code",
   "execution_count": null,
   "metadata": {
    "id": "DhVkthbKHFIW"
   },
   "outputs": [],
   "source": [
    "5 + 5 "
   ]
  },
  {
   "cell_type": "markdown",
   "metadata": {
    "id": "Fy24_qJQG-yV"
   },
   "source": [
    "Python has a built-in function called print that prints things as text. Call the function (i.e., tell Python to run it) by using its name."
   ]
  },
  {
   "cell_type": "code",
   "execution_count": null,
   "metadata": {
    "id": "aA0zvg_MHFIa",
    "scrolled": true
   },
   "outputs": [],
   "source": [
    "print(10 - 5)\n",
    "print(10 * 2)\n",
    "print(\"hello world\")"
   ]
  },
  {
   "cell_type": "markdown",
   "metadata": {
    "id": "HTn8SoYLG-y4"
   },
   "source": [
    "Use comments to add a layer of documentation to your code. E.g., explain what a block of code does, etc. "
   ]
  },
  {
   "cell_type": "code",
   "execution_count": null,
   "metadata": {
    "id": "flINjJr7G-y4"
   },
   "outputs": [],
   "source": [
    "# This sentence isn't executed by Python.\n",
    "10 / 5   # anything after '#' is ignored."
   ]
  },
  {
   "cell_type": "markdown",
   "metadata": {
    "id": "dlCMl4vsOKfo"
   },
   "source": [
    "# Section 2: Variables and Assignment\n",
    "\n",
    "*How can I store data and perform simple calculations?*"
   ]
  },
  {
   "cell_type": "markdown",
   "metadata": {
    "id": "rnsUA8RGG-yZ"
   },
   "source": [
    "* Variables are names for values.\n",
    "* In Python, the `=` symbol assigns the value on the right to the variable on the left.\n",
    "  * in the example below, the value of `greetings` is now 'hello world'\n",
    "* Once you declare a variable, you **must** assign value to it"
   ]
  },
  {
   "cell_type": "code",
   "execution_count": null,
   "metadata": {
    "id": "17F_B61PHFIt"
   },
   "outputs": [],
   "source": [
    "greetings = \"Hello World!\"\n",
    "age = 25"
   ]
  },
  {
   "cell_type": "code",
   "execution_count": null,
   "metadata": {
    "id": "wA3Qq-oxtIm5"
   },
   "outputs": [],
   "source": [
    "name # This cell will give you an error because you tried to declare a variable without assigning a value to it. "
   ]
  },
  {
   "cell_type": "markdown",
   "metadata": {
    "id": "WIuQaOxiG-yd"
   },
   "source": [
    "**Variable names:**\n",
    "* cannot start with a digit\n",
    "* cannot contain spaces, quotation marks, or other punctuation\n",
    "* can contain an underscore (typically used to separate words in long variable names)\n",
    "* case sensitive!\n",
    "* should be meaningful!\n",
    "* You can also ask the user to specify the value (input) and save it to a variable."
   ]
  },
  {
   "cell_type": "code",
   "execution_count": null,
   "metadata": {
    "id": "PkFy8Cr7HFIo"
   },
   "outputs": [],
   "source": [
    "name = input(\"what's your name? \")"
   ]
  },
  {
   "cell_type": "markdown",
   "metadata": {
    "id": "nIGgLCPFG-yg"
   },
   "source": [
    "* you can also use print() to print out a variable's value\n",
    "  * put the variable name inside the bracket. \n",
    "  * The things we passed to the function (the things inside the brackets) are called ‘arguments’ (more on this later)"
   ]
  },
  {
   "cell_type": "code",
   "execution_count": null,
   "metadata": {
    "id": "jPtRXgxSG-yh"
   },
   "outputs": [],
   "source": [
    "print(name)\n",
    "print(\"Hello,\", name)"
   ]
  },
  {
   "cell_type": "markdown",
   "metadata": {
    "id": "os72c35OG-yi"
   },
   "source": [
    "* Variables must be created before they are used.\n",
    "* If a variable doesn’t exist yet, or if the name has been mis-spelled, Python reports an error. "
   ]
  },
  {
   "cell_type": "code",
   "execution_count": null,
   "metadata": {
    "id": "cV05Nv5sG-yj"
   },
   "outputs": [],
   "source": [
    "print(random_variable) # if you try to execute this, it will give you an error"
   ]
  },
  {
   "cell_type": "markdown",
   "metadata": {
    "id": "-4eXGkRuG-yk"
   },
   "source": [
    "**IMPORTANT: the order of execution matters**\n",
    "* Cells are used to organize your code, not necessarily show the order of execution (but of course, ideally your cells are organized in order of execution so as not to confuse yourself)\n",
    "* Go to `Runtime` > `Restart runtime` to reset the notebook file (back to as if none of the cell were executed)"
   ]
  },
  {
   "cell_type": "code",
   "execution_count": null,
   "metadata": {
    "id": "8skDbt2ej03B"
   },
   "outputs": [],
   "source": [
    "print(family_members)"
   ]
  },
  {
   "cell_type": "code",
   "execution_count": null,
   "metadata": {
    "id": "nLMz6cCbj324"
   },
   "outputs": [],
   "source": [
    "family_members = \"Father, Mother, Brother, Sister\""
   ]
  },
  {
   "cell_type": "markdown",
   "metadata": {
    "id": "LGTfGR0TG-yl"
   },
   "source": [
    "* Variables can be used in calculations! We can use variables in calculations just as if they were values. "
   ]
  },
  {
   "cell_type": "code",
   "execution_count": null,
   "metadata": {
    "id": "mQJEcfVVG-yn"
   },
   "outputs": [],
   "source": [
    "age = age + 10\n",
    "print(\"Age in ten years from now:\", age)"
   ]
  },
  {
   "cell_type": "markdown",
   "metadata": {
    "id": "xS6GDihOG-yn"
   },
   "source": [
    "**BEST PRACTICES**\n",
    "* Use meaningful variable names to help other people understand what the program does. The most important “other person” is your future self.\n",
    "* avoid using one-character variable names like \"x\", \"y\". "
   ]
  },
  {
   "cell_type": "code",
   "execution_count": null,
   "metadata": {
    "id": "ZDQiYhlkLBmK"
   },
   "outputs": [],
   "source": [
    "# Which line has the better variable naming?\n",
    "\n",
    "ts = m * 60 + s\n",
    "tot_sec = mts * 60 + sec\n",
    "total_seconds = minutes * 60 + seconds"
   ]
  },
  {
   "cell_type": "markdown",
   "metadata": {
    "id": "MlL3I9mXG-yo"
   },
   "source": [
    "* You can also assign a variable value to another variable"
   ]
  },
  {
   "cell_type": "code",
   "execution_count": null,
   "metadata": {
    "id": "8ap17mZLG-yp"
   },
   "outputs": [],
   "source": [
    "sign = \"North\"\n",
    "direction = sign # assign \"sign\" value to direction\n",
    "print(direction, sign) # now both direction and sign has the same value!"
   ]
  },
  {
   "cell_type": "markdown",
   "metadata": {
    "id": "yora3kj_KoPb"
   },
   "source": [
    "### Quiz: What is the final value of variable `position` below?\n",
    "\n",
    "You can note down your answer as a comment inside the code cell"
   ]
  },
  {
   "cell_type": "code",
   "execution_count": null,
   "metadata": {
    "id": "u5MT2mh5KsRj"
   },
   "outputs": [],
   "source": [
    "initial = \"up\"\n",
    "position = initial\n",
    "initial = \"down\""
   ]
  },
  {
   "cell_type": "markdown",
   "metadata": {
    "id": "NJ3Fo1IbG-yp"
   },
   "source": [
    "### Quiz: What is the final value of variable `color_1` below?"
   ]
  },
  {
   "cell_type": "code",
   "execution_count": null,
   "metadata": {
    "id": "TyiIMNFQG-yq"
   },
   "outputs": [],
   "source": [
    "color_1 = \"black\"\n",
    "color_2 = \"white\"\n",
    "temp = color_1\n",
    "color_1 = color_2\n",
    "color_2 = temp"
   ]
  },
  {
   "cell_type": "markdown",
   "metadata": {
    "id": "gAYk4F3cOY-j"
   },
   "source": [
    "# Section 3: Data Types and Conversion\n",
    "\n",
    "*   *What kinds of data do programs store?*\n",
    "*   *How can I convert one type to another?*"
   ]
  },
  {
   "cell_type": "markdown",
   "metadata": {
    "id": "cwmCvQuqG-yr"
   },
   "source": [
    "Every value has a data type. Common types:\n",
    "* **Integer** (int): whole numbers like 3 or -512.\n",
    "* **Floating point number (float)**: fractional numbers like 3.14159 or -2.5. Whole numbers may also be stored as floats, e.g. 1.0.\n",
    "* **Character string** (usually called “string”, str): text.\n",
    "  * Written in either single quotes or double quotes (as long as they match).\n",
    "  * The quotation marks aren’t printed using print(), but may appear when viewing a value in the Jupyter Notebook or other Python interpreter.\n",
    "* **Boolean**, which is either True or False\n"
   ]
  },
  {
   "cell_type": "code",
   "execution_count": null,
   "metadata": {
    "id": "c7vl8oHzOVs9"
   },
   "outputs": [],
   "source": [
    "public_holidays = 11 #integer\n",
    "avg_temp = 27.8 #float\n",
    "country = \"Singapore\" #string\n",
    "part_of_asean = True #Boolean"
   ]
  },
  {
   "cell_type": "markdown",
   "metadata": {
    "id": "xPgmLaFoG-ys"
   },
   "source": [
    "\n",
    "* Use the built-in function `type` to find out what type a value or a variable has.\n",
    "* Remember, when you change the value of a variable to a new data type, the results of `print(type(your_variable))` will change accordingly.\n"
   ]
  },
  {
   "cell_type": "code",
   "execution_count": null,
   "metadata": {
    "id": "oisUSx3BG-yt"
   },
   "outputs": [],
   "source": [
    "# Question: What is the type of part_of_asean?\n",
    "\n",
    "type(part_of_asean) # this should print out Boolean"
   ]
  },
  {
   "cell_type": "code",
   "execution_count": null,
   "metadata": {
    "id": "DO3bmv7YG-yu"
   },
   "outputs": [],
   "source": [
    "# what would happen if we do this?\n",
    "\n",
    "part_of_asean = \"True\"\n",
    "print(type(part_of_asean)) # now this should be a string!"
   ]
  },
  {
   "cell_type": "markdown",
   "metadata": {
    "id": "p2HsgmLwG-yv"
   },
   "source": [
    "**Why care about data type?** \n",
    "\n",
    "Because a value’s data type determines what the program can do to it."
   ]
  },
  {
   "cell_type": "code",
   "execution_count": null,
   "metadata": {
    "id": "8eEm-aaVG-yv"
   },
   "outputs": [],
   "source": [
    "print(public_holidays - 5) # do calculations on int"
   ]
  },
  {
   "cell_type": "code",
   "execution_count": null,
   "metadata": {
    "id": "DayPY-jXG-yv"
   },
   "outputs": [],
   "source": [
    "print(country - \"pore\") # but that won't work on a string"
   ]
  },
  {
   "cell_type": "markdown",
   "metadata": {
    "id": "27IwYe0oG-yw"
   },
   "source": [
    "However you can use \"+\" and \"*\" on strings"
   ]
  },
  {
   "cell_type": "code",
   "execution_count": null,
   "metadata": {
    "id": "hbiHdEeDG-yx"
   },
   "outputs": [],
   "source": [
    "print(country + \" best\") # this works for string, though."
   ]
  },
  {
   "cell_type": "code",
   "execution_count": null,
   "metadata": {
    "id": "cFp8CJxPG-yy"
   },
   "outputs": [],
   "source": [
    "print(country * 4) # this also works"
   ]
  },
  {
   "cell_type": "code",
   "execution_count": null,
   "metadata": {
    "id": "2QnUwK3MG-yy"
   },
   "outputs": [],
   "source": [
    "print(\"=\" * 10) # this also works"
   ]
  },
  {
   "cell_type": "markdown",
   "metadata": {
    "id": "2W5XI2-GG-yz"
   },
   "source": [
    "Strings have length, but numbers don't"
   ]
  },
  {
   "cell_type": "code",
   "execution_count": null,
   "metadata": {
    "id": "kIgzU268G-yz"
   },
   "outputs": [],
   "source": [
    "len(country) # this would print out the number of characters a string has"
   ]
  },
  {
   "cell_type": "code",
   "execution_count": null,
   "metadata": {
    "id": "cxqkJqTbG-y0"
   },
   "outputs": [],
   "source": [
    "len(public_holidays) # this should give you an error"
   ]
  },
  {
   "cell_type": "markdown",
   "metadata": {
    "id": "36ngy4cbG-y0"
   },
   "source": [
    "Some data types need to be converted before we can do some operations on them"
   ]
  },
  {
   "cell_type": "code",
   "execution_count": null,
   "metadata": {
    "id": "LmZ01GebG-y1"
   },
   "outputs": [],
   "source": [
    "print(\"10\" + 2) #this will give us an error!"
   ]
  },
  {
   "cell_type": "code",
   "execution_count": null,
   "metadata": {
    "id": "3qeEwEcZG-y1"
   },
   "outputs": [],
   "source": [
    "print(\"10\" + str(2)) # either we convert them all to string\n",
    "print(int(10) + 2) # or we convert them to int"
   ]
  },
  {
   "cell_type": "markdown",
   "metadata": {
    "id": "jaEkMOfhG-y2"
   },
   "source": [
    "Take note of the execution order of your variables! They only change value when something is assigned to them. "
   ]
  },
  {
   "cell_type": "code",
   "execution_count": null,
   "metadata": {
    "id": "oneOtVeHG-y3"
   },
   "outputs": [],
   "source": [
    "public_holiday = 11 # initial value \n",
    "new_holidays = public_holiday + 5\n",
    "public_holiday = 10 # we update the variable\n",
    "print(public_holiday, new_holidays) "
   ]
  },
  {
   "cell_type": "markdown",
   "metadata": {
    "id": "Py04xgy0S5zr"
   },
   "source": [
    "### Quiz: What is the data type of each of this variable? \n",
    "Put your answer as a comment next to each line.\n",
    "*Hint: use type() function to check if you're not sure!*\n",
    "\n"
   ]
  },
  {
   "cell_type": "code",
   "execution_count": null,
   "metadata": {
    "id": "MCV9TXA4THBi"
   },
   "outputs": [],
   "source": [
    "a = 50 \n",
    "b = \"SMU Libraries\"\n",
    "c = 100.5\n",
    "d = True\n",
    "\n",
    "e = 10 * 2.54\n",
    "f = int(5.5)\n",
    "g = 10 < 15\n",
    "h = len(\"The quick brown fox jumps over the lazy dog\")\n",
    "\n",
    "# ANSWER:\n",
    "# int, string, float, bool    float, int, bool, int"
   ]
  },
  {
   "cell_type": "markdown",
   "metadata": {
    "id": "tA9kVC3hG-y3"
   },
   "source": [
    "# Section 4: Built-in functions, Help, and Error Messages\n",
    "\n",
    "*   *How can I use built-in functions?*\n",
    "*   *How can I find out what they do?*\n",
    "*   *What kind of errors can occur in programs?* \n",
    "\n"
   ]
  },
  {
   "cell_type": "markdown",
   "metadata": {
    "id": "WcSZxIEhG-y5"
   },
   "source": [
    "There are many built-in function that we can use, one of the common one is ``round()`` which will round a float number to the nearest integer.\n",
    "\n",
    "some functions accept **arguments**, and we put them inside the brackets when we pass it to the function. It's like telling the function \"do what you're supposed to do with this things I pass to you\". \n",
    "\n",
    "``round(3.14)``\n",
    "\n",
    "``3.14`` is the argument. Of course we can pass a variable as arguments too! e.g. ``round(height)``"
   ]
  },
  {
   "cell_type": "markdown",
   "metadata": {},
   "source": [
    "* arguments = the **value** passed to a function\n",
    "* parameters = the **variable** passed to a function\n",
    "\n",
    "(formal definition, but often used interchangeably)"
   ]
  },
  {
   "cell_type": "markdown",
   "metadata": {
    "id": "YHpLDALFG-y7"
   },
   "source": [
    "some functions can take more than one arguments! we've seen this with `print()` earlier\n",
    "\n",
    "If you're not sure what kind of arguments are accepted, etc, use the `help()` function. This example below should tell you more about `round()` once executed"
   ]
  },
  {
   "cell_type": "code",
   "execution_count": null,
   "metadata": {
    "id": "RHPX1fCjG-y8"
   },
   "outputs": [],
   "source": [
    "help(round)"
   ]
  },
  {
   "cell_type": "markdown",
   "metadata": {
    "id": "iDeqyVw_IXF5"
   },
   "source": [
    "### Practice: Identify the errors here. What are they? How can you fix them?"
   ]
  },
  {
   "cell_type": "code",
   "execution_count": null,
   "metadata": {
    "id": "mFftw358Btxx"
   },
   "outputs": [],
   "source": [
    "print(university_name) # Hint: look at section 2"
   ]
  },
  {
   "cell_type": "code",
   "execution_count": null,
   "metadata": {
    "id": "RJzo378zIenr"
   },
   "outputs": [],
   "source": [
    "name = 'Lily "
   ]
  },
  {
   "cell_type": "code",
   "execution_count": null,
   "metadata": {
    "id": "v9CjxMsCC7qc"
   },
   "outputs": [],
   "source": [
    "university = = 'SMU'"
   ]
  },
  {
   "cell_type": "code",
   "execution_count": null,
   "metadata": {
    "id": "z40f7FrLC9P4"
   },
   "outputs": [],
   "source": [
    "print(\"Hello World\""
   ]
  },
  {
   "cell_type": "code",
   "execution_count": null,
   "metadata": {
    "id": "9dAFZW6pC_hQ"
   },
   "outputs": [],
   "source": [
    "rount(0.77)\n",
    "  round(0.89)"
   ]
  },
  {
   "cell_type": "code",
   "execution_count": null,
   "metadata": {
    "id": "Qykg0vIIDIeb"
   },
   "outputs": [],
   "source": [
    "tickets = 100\n",
    "remaining = ticket - 40"
   ]
  },
  {
   "cell_type": "markdown",
   "metadata": {
    "id": "10UzRC60QxO-"
   },
   "source": [
    "# Section 5: List"
   ]
  },
  {
   "cell_type": "markdown",
   "metadata": {
    "id": "AvgWbTVXG-y9"
   },
   "source": [
    "Scenario: **A marketing department is setting up a tracker to track total number of clicks to their online campaigns in January 2022. They have 20 campaigns in total.**\n",
    "\n",
    "* If they are saving the total clicks to variables, they would have 20 variables!\n",
    "* Very difficult to do any calculations on these...\n",
    "* This is where a `list` will come in handy! List can store many values together in a single variable.\n",
    "  * Contained within square brackets [...].\n",
    "  * Values separated by commas.\n",
    "* Use `len()` to find out how many values are stored in a list."
   ]
  },
  {
   "cell_type": "code",
   "execution_count": null,
   "metadata": {
    "id": "U2oeLZnJG-y-"
   },
   "outputs": [],
   "source": [
    "clicks = [30, 115, 105, 210, 55] # number of clicks for 5 campaigns\n",
    "print('clicks:', clicks)\n",
    "print('length:', len(clicks))"
   ]
  },
  {
   "cell_type": "markdown",
   "metadata": {
    "id": "O7ldxwCsG-y-"
   },
   "source": [
    "Use square bracket and index number item to retrieve a list. Remember that index starts from 0 instead of 1. So if you want to retrieve the fourth item, the index will be 3. "
   ]
  },
  {
   "cell_type": "code",
   "execution_count": null,
   "metadata": {
    "id": "3g7J-dfRG-y_"
   },
   "outputs": [],
   "source": [
    "print('clicks on campaign 1:', clicks[0])\n",
    "print('clicks on campaign 5:', clicks[4])"
   ]
  },
  {
   "cell_type": "markdown",
   "metadata": {
    "id": "Z9IQCK37G-y_"
   },
   "source": [
    "List values can be replaced by simply assigning value to them. Below, we changed the value of the fourth item to 80."
   ]
  },
  {
   "cell_type": "code",
   "execution_count": null,
   "metadata": {
    "id": "bN2wV4-jG-zA"
   },
   "outputs": [],
   "source": [
    "clicks[2] = 180\n",
    "print('clicks now:', clicks)"
   ]
  },
  {
   "cell_type": "markdown",
   "metadata": {
    "id": "9TMTPLFaG-zA"
   },
   "source": [
    "what happens if we try to retrieve index that doesn't exists?"
   ]
  },
  {
   "cell_type": "code",
   "execution_count": null,
   "metadata": {
    "id": "2xCMuf36G-zA"
   },
   "outputs": [],
   "source": [
    "clicks[100]"
   ]
  },
  {
   "cell_type": "markdown",
   "metadata": {
    "id": "f0gjsz86G-zB"
   },
   "source": [
    "you can append to list"
   ]
  },
  {
   "cell_type": "code",
   "execution_count": null,
   "metadata": {
    "id": "MBTcxOf7G-zB"
   },
   "outputs": [],
   "source": [
    "print('clicks is initially:', clicks)\n",
    "clicks.append(25)\n",
    "print('clicks has become:', clicks)"
   ]
  },
  {
   "cell_type": "markdown",
   "metadata": {
    "id": "ViZXKD5hG-zB"
   },
   "source": [
    "you can also insert things on the list by specifying which index where you want it to be inserted and the value. "
   ]
  },
  {
   "cell_type": "code",
   "execution_count": null,
   "metadata": {
    "id": "WGm3AwfpG-zC"
   },
   "outputs": [],
   "source": [
    "print('clicks is initially:', clicks)\n",
    "clicks.insert(5, 100)\n",
    "print('clicks has become:', clicks)"
   ]
  },
  {
   "cell_type": "markdown",
   "metadata": {
    "id": "y-42UPT5G-zC"
   },
   "source": [
    "you can also remove items from list"
   ]
  },
  {
   "cell_type": "code",
   "execution_count": null,
   "metadata": {
    "id": "FB0i06SfG-zD"
   },
   "outputs": [],
   "source": [
    "print('clicks is initially:', clicks)\n",
    "del clicks[5]\n",
    "print('clicks has become:', clicks)"
   ]
  },
  {
   "cell_type": "markdown",
   "metadata": {
    "id": "lfeavRYEG-zD"
   },
   "source": [
    "You can also slice a list! This is when you just want to get a portion of a list. "
   ]
  },
  {
   "cell_type": "code",
   "execution_count": null,
   "metadata": {
    "id": "6AWvFGw1G-zD"
   },
   "outputs": [],
   "source": [
    "clicks[0:3] # get the items at  index number 0, 1, 2 (index 3 will be omitted)"
   ]
  },
  {
   "cell_type": "code",
   "execution_count": null,
   "metadata": {
    "id": "SZhwPL9EG-zE"
   },
   "outputs": [],
   "source": [
    "clicks[-1] # get the last item on the list"
   ]
  },
  {
   "cell_type": "code",
   "execution_count": null,
   "metadata": {
    "id": "vSfhQ8KXtpDd"
   },
   "outputs": [],
   "source": [
    "clicks[::2] # print only the odd-numbered item\n",
    "# remember: list[start:end:stride]"
   ]
  },
  {
   "cell_type": "markdown",
   "metadata": {
    "id": "Oi1pE-uRG-zE"
   },
   "source": [
    "you can also initialize empty list by declaring it with []"
   ]
  },
  {
   "cell_type": "code",
   "execution_count": null,
   "metadata": {
    "id": "xqpsN6oFG-zF"
   },
   "outputs": [],
   "source": [
    "campaign_clicks = []"
   ]
  },
  {
   "cell_type": "markdown",
   "metadata": {
    "id": "uXqIEMRzG-zF"
   },
   "source": [
    "you can include values of different types in a list"
   ]
  },
  {
   "cell_type": "code",
   "execution_count": null,
   "metadata": {
    "id": "BRJwNkQGG-zG"
   },
   "outputs": [],
   "source": [
    "campaign_clicks = [\"twitter-ad\", 500, \"instagram-ad\", 1020]\n",
    "campaign_clicks"
   ]
  },
  {
   "cell_type": "markdown",
   "metadata": {
    "id": "EK1HiIXwqyfK"
   },
   "source": [
    "### Practice: complete the code!\n",
    "Complete the code on the following code cells (hints and instructions are in the comments of each cell)"
   ]
  },
  {
   "cell_type": "code",
   "execution_count": null,
   "metadata": {
    "id": "1MDTVql2q_y-"
   },
   "outputs": [],
   "source": [
    "# Below is a list of schools in SMU\n",
    "schools = [\"SCIS\", \"SOE\", \"SOSS\", \"SOA\", \"LKCSB\", \"YPHSL\"]"
   ]
  },
  {
   "cell_type": "code",
   "execution_count": null,
   "metadata": {
    "id": "A7iRRXYUrlpe"
   },
   "outputs": [],
   "source": [
    "# Write a code to print \"LKCSB\" \n",
    "# ANSWER\n",
    "schools[4]"
   ]
  },
  {
   "cell_type": "code",
   "execution_count": null,
   "metadata": {
    "id": "1Rv_Qm0xrqDg"
   },
   "outputs": [],
   "source": [
    "# Write a code to print the first three schools in the list\n",
    "# ANSWER\n",
    "schools[0:3]"
   ]
  },
  {
   "cell_type": "code",
   "execution_count": null,
   "metadata": {
    "id": "b9bZwOp9r0o3"
   },
   "outputs": [],
   "source": [
    "# Add \"CIS\" at the end of the list\n",
    "# ANSWER\n",
    "schools.append(\"CIS\")\n",
    "print(schools)"
   ]
  },
  {
   "cell_type": "code",
   "execution_count": null,
   "metadata": {
    "id": "bAWfU2yxruL8"
   },
   "outputs": [],
   "source": [
    "# Write a code to print SOE, SOA, and YPHSL (a.k.a the even-numbered items in the list)\n",
    "# Extra challenge: you can do this in one line of code! (Feel free to Google)\n",
    "# ANSWER\n",
    "schools[1::2]"
   ]
  },
  {
   "cell_type": "markdown",
   "metadata": {
    "id": "IekFKXKWAG6Z"
   },
   "source": [
    "### Practice: fill in the blanks!\n",
    "\n",
    "Fill in the blanks so that the block of code produces:\n",
    "\n",
    "```\n",
    "first time: [1, 3, 5]\n",
    "second time: [3, 5]\n",
    "```"
   ]
  },
  {
   "cell_type": "code",
   "execution_count": null,
   "metadata": {
    "id": "q7Am7bdJAZU3"
   },
   "outputs": [],
   "source": [
    "values = ____ # initialize an empty list\n",
    "values.____(1)\n",
    "values.____(3)\n",
    "values.____(5)\n",
    "print('first time:', values)\n",
    "values = values[____]\n",
    "print('second time:', values)"
   ]
  },
  {
   "cell_type": "code",
   "execution_count": null,
   "metadata": {
    "id": "ddEVT1K9GHc2"
   },
   "outputs": [],
   "source": [
    "# ANSWER\n",
    "values = [] # initialize an empty list\n",
    "values.append(1)\n",
    "values.append(3)\n",
    "values.append(5)\n",
    "print('first time:', values)\n",
    "values = values[1:]\n",
    "print('second time:', values)"
   ]
  },
  {
   "cell_type": "markdown",
   "metadata": {
    "id": "QGoeaqy3VQG0"
   },
   "source": [
    "# Section 6: For Loops"
   ]
  },
  {
   "cell_type": "markdown",
   "metadata": {
    "id": "1U-tyf54G-zH"
   },
   "source": [
    "Continuing from the above scenario,  **the marketing executive wants to print out the total clicks for each campaign. To make it readable, she wants to print it in this format: \"100 clicks received\". Doing it manually will be tedious if her list is very long!**\n",
    "\n",
    "This is where a `For Loop` comes in handy!"
   ]
  },
  {
   "cell_type": "markdown",
   "metadata": {},
   "source": [
    "Loop is useful for repetitive tasks. It also helps to keep your code succint --> easier to debug if there's an error"
   ]
  },
  {
   "cell_type": "code",
   "execution_count": null,
   "metadata": {
    "id": "Iv3mhRfbG-zI"
   },
   "outputs": [],
   "source": [
    "for number in range(0, 10): # 0 = the start number. The end number here will be 9 because 10 will be omitted\n",
    "    print(\"current number:\", number)"
   ]
  },
  {
   "cell_type": "markdown",
   "metadata": {},
   "source": [
    "The above code is much shorter than typing `print` 10 times"
   ]
  },
  {
   "cell_type": "markdown",
   "metadata": {},
   "source": [
    "You can also use `list` in a for loop!\n",
    "\n",
    "A for loop executes commands once for each value in a list/collection. It is basically telling python: *“for each item in this list/collection, do these operations”*"
   ]
  },
  {
   "cell_type": "code",
   "execution_count": null,
   "metadata": {
    "id": "peSG4Ca2VSMO"
   },
   "outputs": [],
   "source": [
    "for c in clicks:\n",
    "    print(c, \" clicks received\")"
   ]
  },
  {
   "cell_type": "markdown",
   "metadata": {
    "id": "WUA8Kq8HG-zI"
   },
   "source": [
    "Anatomy of loops explained using the example above:\n",
    "* `clicks` --> The collection, is what the loop is being run on.\n",
    "* `print(c, \" clicks received\")` --> The body, specifies what to do for each item in the collection.\n",
    "* `c` --> The loop variable, clk, is what changes for each iteration of the loop. you can think of it as the “current thing”. \n",
    "* The body of a loop can contain many statements. But no loop should be more than a few lines long. Hard for human beings to keep larger chunks of code in mind.\n",
    "\n",
    "Key things:\n",
    "* The first line of the for loop **must** end with a colon, and the body **must be indented**.\n",
    "* **Indentation is always meaningful in Python.** (the common convention is to indent with 4 spaces or tabs)"
   ]
  },
  {
   "cell_type": "markdown",
   "metadata": {
    "id": "cG36WW-xwl3p"
   },
   "source": [
    "### Practice: Complete the code\n",
    "complete the missing code on each code cell below"
   ]
  },
  {
   "cell_type": "code",
   "execution_count": null,
   "metadata": {
    "id": "VNRgUXEEwpkG"
   },
   "outputs": [],
   "source": [
    "# Below is a list of schools in SMU\n",
    "schools = [\"SCIS\", \"SOE\", \"SOSS\", \"SOA\", \"LKCSB\", \"YPHSL\"]"
   ]
  },
  {
   "cell_type": "code",
   "execution_count": null,
   "metadata": {
    "id": "tGBp7C0ywyEu"
   },
   "outputs": [],
   "source": [
    "# Print all the school names\n",
    "___ sch __ schools:\n",
    "    print(sch)"
   ]
  },
  {
   "cell_type": "code",
   "execution_count": null,
   "metadata": {
    "id": "QAGUYqldGcD-"
   },
   "outputs": [],
   "source": [
    "# Print all the school names\n",
    "# ANSWER\n",
    "for sch in schools:\n",
    "    print(sch)"
   ]
  },
  {
   "cell_type": "code",
   "execution_count": null,
   "metadata": {
    "id": "wRGm9aNGw-6R"
   },
   "outputs": [],
   "source": [
    "# Write a code that will print \"Hello there!\" 5 times (hint: use \"range\" function)\n",
    "# ANSWER\n",
    "for x in range(5):\n",
    "    print(\"Hello there!\")"
   ]
  },
  {
   "cell_type": "markdown",
   "metadata": {
    "id": "KNcF58QFTRJl"
   },
   "source": [
    "# Section 7: Conditionals (If-Else)"
   ]
  },
  {
   "cell_type": "markdown",
   "metadata": {
    "id": "1_mAAc2TG-zJ"
   },
   "source": [
    "Conditionals or If-Else statements is used to control whether or not a block of code is executed.\n",
    "\n",
    "The structure is similar to a For Loop:\n",
    "  * First line opens with if and ends with a colon\n",
    "  * Body containing one or more statements is indented"
   ]
  },
  {
   "cell_type": "code",
   "execution_count": null,
   "metadata": {
    "id": "oFzLQtjXTTO9"
   },
   "outputs": [],
   "source": [
    "avg_temp = 27.6\n",
    "if avg_temp > 30: # check if fwci is more than 1.0\n",
    "    print(avg_temp, 'is very hot. Global warming imminent.') # fwci is NOT larger than 1.0, this piece of code will not be executed."
   ]
  },
  {
   "cell_type": "markdown",
   "metadata": {
    "id": "6Bl74UP_G-zK"
   },
   "source": [
    "Conditionals are often used inside loops. Going back to the example above, let's say the marketing executive wants to print only the successful campaign that received more than 100 clicks. "
   ]
  },
  {
   "cell_type": "code",
   "execution_count": null,
   "metadata": {
    "id": "lqS1jKJUG-zL"
   },
   "outputs": [],
   "source": [
    "for c in clicks:\n",
    "    if c > 100:\n",
    "        print(\"campaign is successful, total clicks:\", c)"
   ]
  },
  {
   "cell_type": "markdown",
   "metadata": {
    "id": "M2N5rghGG-zL"
   },
   "source": [
    "You can add a catch-all statement, `else` in conditionals. The codes inside this catch-all will executed if none of the conditions are satisfied."
   ]
  },
  {
   "cell_type": "code",
   "execution_count": null,
   "metadata": {
    "id": "INccJXrPG-zL"
   },
   "outputs": [],
   "source": [
    "for c in clicks:\n",
    "    if c > 100: # if this is true...\n",
    "        print(\"campaign is successful, total clicks:\", c) #... do this!\n",
    "    else: # otherwise...\n",
    "        print(\"campaign is not successful, total clicks:\", c) # ... do this one!"
   ]
  },
  {
   "cell_type": "markdown",
   "metadata": {
    "id": "EAAFucu3G-zM"
   },
   "source": [
    "What if you there are more than one conditioins?\n",
    "\n",
    "Use `elif` (short for “else if”) to specify additional tests. `elif` **must** be placed between `if` and `else` like so:"
   ]
  },
  {
   "cell_type": "code",
   "execution_count": null,
   "metadata": {
    "id": "XrATJV_SG-zM"
   },
   "outputs": [],
   "source": [
    "for c in clicks:\n",
    "    if c > 150:\n",
    "        print(\"campaign is VERY successful, total clicks:\", c)\n",
    "    elif c > 100:\n",
    "        print(\"campaign is successful, total clicks:\", c)\n",
    "    else:\n",
    "        print(\"campaign is NOT successful, total clicks:\", c)"
   ]
  },
  {
   "cell_type": "markdown",
   "metadata": {
    "id": "y_t5OKXgVRDb"
   },
   "source": [
    "You can also use conditional to check if certain items are inside a list. "
   ]
  },
  {
   "cell_type": "code",
   "execution_count": null,
   "metadata": {
    "id": "TVA2-fotVWlE"
   },
   "outputs": [],
   "source": [
    "campaign_names = [\"twitter-ad\", \"instagram-ad\", \"tiktok-ad\"]\n",
    "if \"twitter-ad\" in campaign_names:\n",
    "    print(\"twitter-ad is in the list!\")"
   ]
  },
  {
   "cell_type": "markdown",
   "metadata": {
    "id": "mbDhi0sGG-zN"
   },
   "source": [
    "**IMPORTANT**\n",
    "\n",
    "Python steps through the statement of the conditional in order, testing each in turn. So ordering matters!\n",
    "\n",
    "Let's see an example below. Because of the way the statements are structured, the grade here will be C when it should be B"
   ]
  },
  {
   "cell_type": "code",
   "execution_count": null,
   "metadata": {
    "id": "iCCt9bnCG-zO"
   },
   "outputs": [],
   "source": [
    "grade = 85\n",
    "if grade >= 70: # check if grade is more than 70...\n",
    "    print('grade is C') # ... it does! It therefore executes this line of code and then call it a day. \n",
    "elif grade >= 80:\n",
    "    print('grade is B')\n",
    "elif grade >= 90:\n",
    "    print('grade is A')"
   ]
  },
  {
   "cell_type": "markdown",
   "metadata": {
    "id": "lqSzTwgny3ZO"
   },
   "source": [
    "### Practice: Complete the code\n",
    "Complete the missing code on each code cell below. Be sure to test your code!"
   ]
  },
  {
   "cell_type": "code",
   "execution_count": null,
   "metadata": {
    "id": "HlCrEX9lzOt1"
   },
   "outputs": [],
   "source": [
    "# We have these variables for this practice round:\n",
    "a = 50\n",
    "b = 10\n",
    "c = 25\n",
    "d = 30"
   ]
  },
  {
   "cell_type": "code",
   "execution_count": null,
   "metadata": {
    "id": "FAFt6CNtzAWn"
   },
   "outputs": [],
   "source": [
    "# Print \"Hello World\" if a is not equal to b.\n",
    "\n",
    "___ a ___ b ___\n",
    "    print(\"Hello World\")"
   ]
  },
  {
   "cell_type": "code",
   "execution_count": null,
   "metadata": {
    "id": "R_5eM1V7HHo7"
   },
   "outputs": [],
   "source": [
    "# Print \"Hello World\" if a is not equal to b.\n",
    "# ANSWER\n",
    "if a != b:\n",
    "    print(\"Hello World\")"
   ]
  },
  {
   "cell_type": "code",
   "execution_count": null,
   "metadata": {
    "id": "AINpKgEo0bNp"
   },
   "outputs": [],
   "source": [
    "# Print \"Hello World\" if a is not equal to b. Otherwise, print \"See You Later\".\n",
    "\n",
    "___ a ___ b ___\n",
    "    print(\"Hello World\")\n",
    "____\n",
    "    print(\"See You Later\")"
   ]
  },
  {
   "cell_type": "code",
   "execution_count": null,
   "metadata": {
    "id": "cmTmNEMPHiUo"
   },
   "outputs": [],
   "source": [
    "# Print \"Hello World\" if a is not equal to b. Otherwise, print \"See You Later\".\n",
    "# ANSWER\n",
    "if a != b:\n",
    "    print(\"Hello World\")\n",
    "else:\n",
    "    print(\"See You Later\")"
   ]
  },
  {
   "cell_type": "code",
   "execution_count": null,
   "metadata": {
    "id": "gD6hA1DaHj7S"
   },
   "outputs": [],
   "source": [
    "# Print \"Hello\" if a is equal to b, and c is equal to d\n",
    "# Hint: use Boolean operators: and, or, not\n",
    "\n",
    "if a ___ b ___ c ___ d:\n",
    "    print(\"Hello\")"
   ]
  },
  {
   "cell_type": "code",
   "execution_count": null,
   "metadata": {
    "id": "HgfL1n5_zJE_"
   },
   "outputs": [],
   "source": [
    "# Print \"Hello\" if a is equal to b, and c is equal to d\n",
    "# Hint: use Boolean operators: and, or, not\n",
    "# ANSWER\n",
    "\n",
    "if a == b and c == d:\n",
    "    print(\"Hello\")"
   ]
  },
  {
   "cell_type": "markdown",
   "metadata": {},
   "source": [
    "# Challenges"
   ]
  },
  {
   "cell_type": "markdown",
   "metadata": {},
   "source": [
    "## Challenge 1: Write a loop that will sum all numbers from 1 to 100!\n"
   ]
  },
  {
   "cell_type": "code",
   "execution_count": null,
   "metadata": {},
   "outputs": [],
   "source": [
    "# Complete the code below!\n",
    "total_sum = 0\n",
    "for x in range (1, 101):\n",
    "    # ANSWER\n",
    "    total_sum = total_sum + x\n",
    "    print(\"adding\", x, \"to\", total_sum)\n",
    "    \n",
    "total_sum"
   ]
  },
  {
   "cell_type": "markdown",
   "metadata": {
    "id": "-uuY8IWtgpWI"
   },
   "source": [
    "## Challenge 2: Write a temperature converter!\n",
    "\n",
    "The code below is to convert temperatures to and from celsius, fahrenheit. \n",
    "\n",
    "Formula : \n",
    "\n",
    "`Celsius = (Fahrenheit – 32) * 5/9`\n",
    "\n",
    "`Fahrenheit = (Celsius * 9/5) + 32`\n",
    "\n",
    "Hint:\n",
    "1.   Use conditionals to check for the degree input\n",
    "2.   Convert some data types into `int`\n",
    "3.   Use `round()` to make the result accurate up to 2 digits after coma\n",
    "\n",
    "**Bonus challenge**: Make sure to also print \"invalid temperature value!\" if a user input anything else other than `C` or `F` when prompted\n"
   ]
  },
  {
   "cell_type": "code",
   "execution_count": null,
   "metadata": {
    "id": "axop5_iMhTFh"
   },
   "outputs": [],
   "source": [
    "# Complete the code below!\n",
    "\n",
    "temperature = input(\"Temperature to convert: \")\n",
    "degree = input(\"Convert to (type C to convert to Celcius, F to convert to Fahrenheit): \")\n",
    "converted_temp = 0\n",
    "\n",
    "# ANSWER\n",
    "if degree == \"C\":\n",
    "    converted_temp = (int(temperature) - 32) * 5/9\n",
    "    print(round(converted_temp, 2), \"C\")\n",
    "elif degree == \"F\":\n",
    "    converted_temp = (int(temperature) * 9/5) + 32\n",
    "    print(round(converted_temp, 2), \"F\")"
   ]
  }
 ],
 "metadata": {
  "colab": {
   "collapsed_sections": [
    "_SDYuT0HHEOr"
   ],
   "name": "2022-06-30-LibCarpentry.ipynb",
   "private_outputs": true,
   "provenance": [],
   "toc_visible": true
  },
  "gpuClass": "standard",
  "kernelspec": {
   "display_name": "Python 3 (ipykernel)",
   "language": "python",
   "name": "python3"
  },
  "language_info": {
   "codemirror_mode": {
    "name": "ipython",
    "version": 3
   },
   "file_extension": ".py",
   "mimetype": "text/x-python",
   "name": "python",
   "nbconvert_exporter": "python",
   "pygments_lexer": "ipython3",
   "version": "3.9.7"
  }
 },
 "nbformat": 4,
 "nbformat_minor": 4
}
