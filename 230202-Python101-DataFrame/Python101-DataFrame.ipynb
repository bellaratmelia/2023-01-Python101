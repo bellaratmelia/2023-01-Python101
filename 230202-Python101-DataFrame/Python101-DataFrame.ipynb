{
 "cells": [
  {
   "cell_type": "markdown",
   "id": "88a163a3-0a1b-45aa-a1ac-2defcbc59dfe",
   "metadata": {},
   "source": [
    "# About this notebook\n",
    "\n",
    "This notebook is created by Bella Ratmelia (bellar@smu.edu.sg) for SMU Libraries' Python 101: Tinkering with DataFrame bite-sized workshop on 2 Feb and 6 Feb 2023"
   ]
  },
  {
   "cell_type": "markdown",
   "id": "a41c0008-9e7d-484f-835c-a8b03bbc2679",
   "metadata": {},
   "source": [
    "Dataset used in this workshop:\n",
    "\n",
    "* Survey data `econs-scholar-perception-survey.csv`. This is an actual survey data from this study: *Perceptions of Scholars in the Field of Economics on Co-Authorship Associations: Evidence from an International Survey* by Sameer Kumar and Kuru Ratnavelu. You can find the study + data here: https://journals.plos.org/plosone/article?id=10.1371/journal.pone.0157633 ***Note: I've edited the data file to have missing values and other imperfections for the purpose of this workshop***\n",
    "* Time Series data `cocoa-price-daily.csv` contains information on daily cocoa price per metric tonne in USD and EURO since 1994 to 2022. It is publicly available here: https://www.icco.org/statistics/"
   ]
  },
  {
   "cell_type": "code",
   "execution_count": null,
   "id": "44f5b8ec-49e8-44c5-9cfb-8ddc79ae98a1",
   "metadata": {},
   "outputs": [],
   "source": [
    "# import the necessary packages\n",
    "import pandas as pd"
   ]
  },
  {
   "cell_type": "markdown",
   "id": "04d240da-c843-4f37-8189-03a16e8e8456",
   "metadata": {
    "tags": []
   },
   "source": [
    "# Loading data to Python + prelim checks"
   ]
  },
  {
   "cell_type": "code",
   "execution_count": null,
   "id": "3a566146-daa1-4d0e-acb6-5c67615f2a52",
   "metadata": {},
   "outputs": [],
   "source": [
    "# load/read CSV to Python via DataFrame\n",
    "data = pd.read_csv('econs-scholar-perception-survey.csv')"
   ]
  },
  {
   "cell_type": "code",
   "execution_count": null,
   "id": "88c2bfa2-f7b8-4014-b97e-70b7761d279f",
   "metadata": {},
   "outputs": [],
   "source": [
    "data"
   ]
  },
  {
   "cell_type": "markdown",
   "id": "422bd304-a7aa-4e6f-a513-fd6b2e9af561",
   "metadata": {
    "tags": []
   },
   "source": [
    "## Prelim check"
   ]
  },
  {
   "cell_type": "code",
   "execution_count": null,
   "id": "09c08c07-0838-4eee-ac9c-3362af79965e",
   "metadata": {},
   "outputs": [],
   "source": [
    "# find out more about a dataframe.\n",
    "data.info()"
   ]
  },
  {
   "cell_type": "code",
   "execution_count": null,
   "id": "4c6b3c5f-0081-482f-bff9-56a77dd0a555",
   "metadata": {},
   "outputs": [],
   "source": [
    "# Get the summary statistics of the columns that have numerical data. \n",
    "# All other columns are ignored, unless you use the argument include='all'.\n"
   ]
  },
  {
   "cell_type": "markdown",
   "id": "9c6e5ace-b0b3-4bdf-912d-6962c43dedec",
   "metadata": {
    "tags": []
   },
   "source": [
    "## Renaming columns"
   ]
  },
  {
   "cell_type": "code",
   "execution_count": null,
   "id": "0a341609-ec60-4709-a114-58393ddc7ed0",
   "metadata": {},
   "outputs": [],
   "source": [
    "# Sometimes column names need to be renamed to make it easier for us\n",
    "# rename columns to be all lowercaps with no whitespace (replace whitespace with underscore)\n",
    "# rename them to something more meaningful\n",
    "\n",
    "data.rename(columns = {\n",
    "    \"country workplace\": \"country_workplace\",\n",
    "    \"working abroad\": \"working_abroad\",\n",
    "    \"marital status\": \"marital_status\",\n",
    "    \"years of service\": \"years_of_service\",\n",
    "    \"professional position\": \"professional_position\",\n",
    "    \"proportion coauthored\" : \"proportion_coauthored\"\n",
    "}, inplace=True)\n"
   ]
  },
  {
   "cell_type": "code",
   "execution_count": null,
   "id": "9b076ca7-608f-4164-8337-df80e98cc871",
   "metadata": {},
   "outputs": [],
   "source": [
    "data.columns"
   ]
  },
  {
   "cell_type": "markdown",
   "id": "98049528-f6c5-4ec0-b1ca-582a2cab06b7",
   "metadata": {
    "tags": []
   },
   "source": [
    "## Selecting specific columns of dataframe"
   ]
  },
  {
   "cell_type": "code",
   "execution_count": null,
   "id": "5d2dfac8-acce-4bb3-b757-9d06f1361328",
   "metadata": {},
   "outputs": [],
   "source": []
  },
  {
   "cell_type": "markdown",
   "id": "966c8db1-03d8-4091-8bca-dffabe98a76e",
   "metadata": {},
   "source": [
    "## Filtering the rows to fit specified criteria"
   ]
  },
  {
   "cell_type": "code",
   "execution_count": null,
   "id": "2064e8b4-fb3b-45ee-9575-f085c3e0e12b",
   "metadata": {},
   "outputs": [],
   "source": []
  },
  {
   "cell_type": "markdown",
   "id": "d4a8aeea-b075-4f49-93ee-e016d25c8627",
   "metadata": {},
   "source": [
    "## Filtering for both rows and columns"
   ]
  },
  {
   "cell_type": "code",
   "execution_count": null,
   "id": "5e6c4b85-176d-4b81-8df5-b07ea277acdb",
   "metadata": {},
   "outputs": [],
   "source": [
    "# Even more granular filtering with .loc, we can filter rows and columns criteria at one go\n"
   ]
  },
  {
   "cell_type": "markdown",
   "id": "399c7bb8-aae8-4b6c-a5be-a1bd355718be",
   "metadata": {},
   "source": [
    "## Handling empty values "
   ]
  },
  {
   "cell_type": "code",
   "execution_count": null,
   "id": "e5d30f76-73de-421b-ac54-817da01029bd",
   "metadata": {},
   "outputs": [],
   "source": []
  },
  {
   "cell_type": "markdown",
   "id": "413c9b87-e68b-45ad-b19c-80d639fb6542",
   "metadata": {},
   "source": [
    "## Counting and Sorting"
   ]
  },
  {
   "cell_type": "code",
   "execution_count": null,
   "id": "81a76026-bc0f-4e4a-8aac-01bdeb047ee9",
   "metadata": {},
   "outputs": [],
   "source": []
  },
  {
   "cell_type": "markdown",
   "id": "ac38702f-a110-4781-90e6-463ea59baf96",
   "metadata": {
    "tags": []
   },
   "source": [
    "## Creating and dropping columns"
   ]
  },
  {
   "cell_type": "code",
   "execution_count": null,
   "id": "0e4d0236-a145-4805-a1bd-4551d7ca6e0b",
   "metadata": {},
   "outputs": [],
   "source": [
    "data.columns"
   ]
  },
  {
   "cell_type": "markdown",
   "id": "116bd2a0-dd2e-43dc-91d2-618bfd093c03",
   "metadata": {
    "tags": []
   },
   "source": [
    "## Mean, median, mode"
   ]
  },
  {
   "cell_type": "code",
   "execution_count": null,
   "id": "b1dba5a6-27a9-402e-bd57-78b4e26fef4d",
   "metadata": {},
   "outputs": [],
   "source": []
  },
  {
   "cell_type": "markdown",
   "id": "c0469066-0feb-416c-ba3d-98b2c461151c",
   "metadata": {},
   "source": [
    "## Saving to CSV + simple visualizations"
   ]
  },
  {
   "cell_type": "code",
   "execution_count": null,
   "id": "a27b9836-a26f-41a1-b2f6-2ac72c00dc0c",
   "metadata": {},
   "outputs": [],
   "source": [
    "data.to_csv(\"econs-scholar-edited.csv\")"
   ]
  },
  {
   "cell_type": "code",
   "execution_count": null,
   "id": "1f23c824-6630-441c-821e-a336ecc25d84",
   "metadata": {},
   "outputs": [],
   "source": []
  },
  {
   "cell_type": "markdown",
   "id": "5899b674-92a5-4320-9a69-3e0cc68d6bdc",
   "metadata": {},
   "source": [
    "## Exercises to try yourself!\n",
    "\n",
    "1. Get the country data of professors who rated benefits_qualityofpaper as important or above\n",
    "2. Sort participants based on country name in descending order\n",
    "3. Plot a bar chart that visualizes the data based on continent and gender"
   ]
  },
  {
   "cell_type": "markdown",
   "id": "42c12b23-c6c0-464e-bd28-08d73f487b1f",
   "metadata": {},
   "source": [
    "# Handling Time Series Data"
   ]
  },
  {
   "cell_type": "markdown",
   "id": "b567f782-ecab-44a5-b35e-aa6abe4dbbc3",
   "metadata": {},
   "source": [
    "## Loading time series data + data prep"
   ]
  },
  {
   "cell_type": "code",
   "execution_count": null,
   "id": "fd7bd3bc-4d4f-4fb4-964d-55ca465951fd",
   "metadata": {},
   "outputs": [],
   "source": [
    "cocoa = pd.read_csv('cocoa-price-daily.csv')"
   ]
  },
  {
   "cell_type": "code",
   "execution_count": null,
   "id": "2a21739d-f891-4dfb-ad67-333b10493235",
   "metadata": {},
   "outputs": [],
   "source": [
    "# check the loaded data\n",
    "cocoa.info()"
   ]
  },
  {
   "cell_type": "code",
   "execution_count": null,
   "id": "8193aae9-d6bf-441e-b780-f7668d1323c2",
   "metadata": {},
   "outputs": [],
   "source": [
    "# rename columns to make things easier \n",
    "cocoa.rename(columns = {\n",
    "    \"Date\": \"date\",\n",
    "    \"London futures (£ sterling/tonne)\": \"ldn_futures\",\n",
    "    \"New York futures (US$/tonne)\": \"ny_futures\",\n",
    "    \"ICCO daily price (US$/tonne)\": \"icco_daily_usd\",\n",
    "    \"ICCO daily price (Euro/tonne)\": \"icco_daily_euro\"\n",
    "}, inplace=True)\n",
    "\n",
    "cocoa.info()"
   ]
  },
  {
   "cell_type": "markdown",
   "id": "799174f0-0cd9-46b9-ae82-b7bd474f38af",
   "metadata": {},
   "source": [
    "## Set the date column as index"
   ]
  },
  {
   "cell_type": "code",
   "execution_count": null,
   "id": "0fecd94d-9d82-40e1-b31f-bc698ff9c4f6",
   "metadata": {},
   "outputs": [],
   "source": [
    "# set the date as a datetime object\n",
    "cocoa['date'] = pd.to_datetime(cocoa['date'])\n",
    "cocoa.info()"
   ]
  },
  {
   "cell_type": "code",
   "execution_count": null,
   "id": "32ea9add-bbe9-4a58-a12c-fa590aa6c495",
   "metadata": {},
   "outputs": [],
   "source": [
    "cocoa.set_index('date', inplace=True)\n",
    "cocoa.info()"
   ]
  },
  {
   "cell_type": "markdown",
   "id": "93eb8c6c-7304-443a-b26f-0f54b8b25290",
   "metadata": {},
   "source": [
    "## Convert strings to float (if the numbers are saved as string)"
   ]
  },
  {
   "cell_type": "code",
   "execution_count": null,
   "id": "fdbaf307-deb2-4ae1-8b07-21d73f7904ea",
   "metadata": {},
   "outputs": [],
   "source": [
    "# the \",\" is hindering us from converting string to float\n",
    "# replace the \",\" with empty space to remove it\n",
    "cocoa = cocoa.replace(\",\", \"\", regex=True)\n",
    "\n",
    "cocoa.head(10)"
   ]
  },
  {
   "cell_type": "code",
   "execution_count": null,
   "id": "5864f3bf-d943-4b8f-96ad-f27bd93311bc",
   "metadata": {},
   "outputs": [],
   "source": [
    "# convert the appropriate columns to float data type\n",
    "\n",
    "price_columns = ['ldn_futures', 'ny_futures', 'icco_daily_usd', 'icco_daily_euro']\n",
    "cocoa[price_columns] = cocoa[price_columns].astype(float)\n",
    "\n",
    "cocoa.info()"
   ]
  },
  {
   "cell_type": "markdown",
   "id": "a20e8194-ad6a-457d-9cd8-8c01c3161b56",
   "metadata": {},
   "source": [
    "## Manipulating data"
   ]
  },
  {
   "cell_type": "code",
   "execution_count": null,
   "id": "56ca444d-e759-4e8a-a4f7-3bcc7d3af2d8",
   "metadata": {},
   "outputs": [],
   "source": [
    "# retrieving data on a specific year / month / date\n"
   ]
  },
  {
   "cell_type": "markdown",
   "id": "62ced22c-2b59-4549-b1ab-48fc73e51c53",
   "metadata": {},
   "source": [
    "## Visualizing time series"
   ]
  },
  {
   "cell_type": "code",
   "execution_count": null,
   "id": "4c7cfebd-869f-484d-b788-f0a62663140f",
   "metadata": {},
   "outputs": [],
   "source": [
    "import matplotlib.pyplot as plt"
   ]
  },
  {
   "cell_type": "code",
   "execution_count": null,
   "id": "37725ed0-b69e-422d-84dd-9a49e6f0d229",
   "metadata": {},
   "outputs": [],
   "source": []
  },
  {
   "cell_type": "markdown",
   "id": "0c1022da-cc1f-4ba5-a92b-ddf1ea159872",
   "metadata": {},
   "source": [
    "## Handling missing values and resampling"
   ]
  },
  {
   "cell_type": "code",
   "execution_count": null,
   "id": "edeb2fa8-f511-45a8-8f78-0d08446bb19f",
   "metadata": {},
   "outputs": [],
   "source": []
  },
  {
   "cell_type": "markdown",
   "id": "0e6ecee0-a571-431e-a679-3ac24a6d303a",
   "metadata": {},
   "source": [
    "## Calculating changes"
   ]
  },
  {
   "cell_type": "code",
   "execution_count": null,
   "id": "966ca70a-f68c-496e-bbda-aee53a767930",
   "metadata": {},
   "outputs": [],
   "source": [
    "# create new column to calculate difference between each daily price in USD\n"
   ]
  },
  {
   "cell_type": "code",
   "execution_count": null,
   "id": "8b70dbf8-d8fc-4ae8-985e-ae12d5cb244f",
   "metadata": {},
   "outputs": [],
   "source": [
    "# create new column to calculate changes to daily price in USD, but capture in percentage\n"
   ]
  },
  {
   "cell_type": "markdown",
   "id": "09a28790-354d-45e4-87b6-d54d8c85fc21",
   "metadata": {
    "jp-MarkdownHeadingCollapsed": true,
    "tags": []
   },
   "source": [
    "## Exercises to try on your own:\n",
    " *hint: check out pandas documentation on which function to use!*\n",
    "1. Find the 6 months rolling average and rolling standard deviation for icco_daily_euro\n",
    "2. plot the rolling average and the rolling standard deviation with the original value"
   ]
  }
 ],
 "metadata": {
  "kernelspec": {
   "display_name": "Python 3 (ipykernel)",
   "language": "python",
   "name": "python3"
  },
  "language_info": {
   "codemirror_mode": {
    "name": "ipython",
    "version": 3
   },
   "file_extension": ".py",
   "mimetype": "text/x-python",
   "name": "python",
   "nbconvert_exporter": "python",
   "pygments_lexer": "ipython3",
   "version": "3.9.7"
  }
 },
 "nbformat": 4,
 "nbformat_minor": 5
}
