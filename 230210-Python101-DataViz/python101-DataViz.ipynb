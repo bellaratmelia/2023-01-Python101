{
 "cells": [
  {
   "cell_type": "markdown",
   "id": "bb32558c-f806-4978-abab-1b704806e811",
   "metadata": {},
   "source": [
    "# About this notebook\n",
    "\n",
    "This notebook is created by Bella Ratmelia (bellar@smu.edu.sg) for SMU Libraries' Python 101: Visualizing your data in Python bite-sized workshop on 10 Feb 2023"
   ]
  },
  {
   "cell_type": "markdown",
   "id": "4e45d9c8-441b-43a3-92c0-688be407b566",
   "metadata": {},
   "source": [
    "Dataset used in this workshop:\n",
    "\n",
    "* Netflix stock data (we will retrieve it from Yahoo Finance with the help of `yfinance` library)\n",
    "* Survey data `youth-survey.csv` is a raw survey data conducted on 1010 youth from Czech Republic. This data is available on Kaggle.\n",
    "* Download data of TikTok in several countries `tiktok-downloads-by-country.csv`. This data is available from Statista. "
   ]
  },
  {
   "cell_type": "markdown",
   "id": "0588d1d1-e4fb-4602-a9a1-398113b78518",
   "metadata": {},
   "source": [
    "## Preparing our data\n",
    "\n",
    "* install and import all the necessary packages\n",
    "* load our data to DataFrames"
   ]
  },
  {
   "cell_type": "code",
   "execution_count": null,
   "id": "03daca67-1e7e-41ec-b75b-d329833ff86c",
   "metadata": {},
   "outputs": [],
   "source": [
    "pip install yfinance"
   ]
  },
  {
   "cell_type": "code",
   "execution_count": null,
   "id": "1fa5fd2f-89e2-4bbe-8b97-ca726752a1b7",
   "metadata": {},
   "outputs": [],
   "source": [
    "pip install matplotlib"
   ]
  },
  {
   "cell_type": "code",
   "execution_count": null,
   "id": "434580e2-88d1-4917-964b-6fbb4895a086",
   "metadata": {},
   "outputs": [],
   "source": [
    "pip install pandas"
   ]
  },
  {
   "cell_type": "code",
   "execution_count": null,
   "id": "6e26dae3-2112-4741-b7bf-c3ecc229204f",
   "metadata": {},
   "outputs": [],
   "source": [
    "pip install seaborn"
   ]
  },
  {
   "cell_type": "code",
   "execution_count": null,
   "id": "3b264ba1-694f-40b5-b71b-deec48512ac7",
   "metadata": {},
   "outputs": [],
   "source": [
    "import matplotlib.pyplot as plt\n",
    "import seaborn as sns\n",
    "import pandas as pd\n",
    "import yfinance"
   ]
  },
  {
   "cell_type": "code",
   "execution_count": null,
   "id": "937409be-3ef5-494c-82c1-282270bd4779",
   "metadata": {},
   "outputs": [],
   "source": [
    "# load the survey data\n",
    "survey = pd.read_csv(\"youth-survey.csv\")\n",
    "\n",
    "# load TikTok data\n",
    "tiktok = pd.read_csv(\"tiktok-downloads-by-country.csv\")\n",
    "\n",
    "#retrieve our time series data, which is the Netflix stock price\n",
    "nflx = yfinance.download(\"NFLX\", start=\"2020-01-01\", end=\"2020-03-31\")\n",
    "nflx.info()"
   ]
  },
  {
   "cell_type": "markdown",
   "id": "6ad48f11-4d48-44f9-b123-9085463e714c",
   "metadata": {},
   "source": [
    "# Using `matplotlib`"
   ]
  },
  {
   "cell_type": "code",
   "execution_count": null,
   "id": "fccfc975-1b82-431e-ac01-b80ee67640b3",
   "metadata": {},
   "outputs": [],
   "source": [
    "fig, ax = plt.subplots() # create a figure with a single axes\n",
    "\n",
    "\n",
    "plt.grid() #show grid\n",
    "plt.legend() #show legend\n",
    "plt.show() #render the information"
   ]
  },
  {
   "cell_type": "markdown",
   "id": "1207606a-3660-47e4-a092-35cfc40c617d",
   "metadata": {
    "tags": []
   },
   "source": [
    "## Anatomy of a matplotlib graph\n",
    "\n",
    "<img src=\"https://matplotlib.org/stable/_images/anatomy.png\" alt=\"Drawing\" style=\"width: 400px;\"/>"
   ]
  },
  {
   "cell_type": "markdown",
   "id": "cc91bfc1-bbdf-46d4-8c21-f7b08775a117",
   "metadata": {
    "tags": []
   },
   "source": [
    "## Line Chart"
   ]
  },
  {
   "cell_type": "code",
   "execution_count": null,
   "id": "f95e6fe5-b160-442c-9215-3af089d44423",
   "metadata": {},
   "outputs": [],
   "source": []
  },
  {
   "cell_type": "markdown",
   "id": "d3ed7a83-1980-45d7-861f-a0e7dd39d76c",
   "metadata": {
    "tags": []
   },
   "source": [
    "## Bar Charts"
   ]
  },
  {
   "cell_type": "code",
   "execution_count": null,
   "id": "2433c654-dcc4-4eac-af69-7a38cdf8e775",
   "metadata": {},
   "outputs": [],
   "source": []
  },
  {
   "cell_type": "markdown",
   "id": "7a780555-9bb7-4b7d-a691-f8cbc6604b49",
   "metadata": {},
   "source": [
    "## Scatterplots"
   ]
  },
  {
   "cell_type": "code",
   "execution_count": null,
   "id": "145151fa-0d1d-42d4-a6f3-7a3fc68dfd18",
   "metadata": {},
   "outputs": [],
   "source": []
  },
  {
   "cell_type": "markdown",
   "id": "50713cd9-7f0c-4ee9-857b-02e37f2195e1",
   "metadata": {},
   "source": [
    "## Histogram"
   ]
  },
  {
   "cell_type": "code",
   "execution_count": null,
   "id": "c68abb6d-145d-4079-9037-97914b40e855",
   "metadata": {},
   "outputs": [],
   "source": []
  },
  {
   "cell_type": "markdown",
   "id": "7e0b0d1a-de87-449c-9756-c077952af6c2",
   "metadata": {},
   "source": [
    "## Subplots"
   ]
  },
  {
   "cell_type": "code",
   "execution_count": null,
   "id": "cc48e3d5-65ee-47a0-8001-133cd1892bc9",
   "metadata": {},
   "outputs": [],
   "source": []
  },
  {
   "cell_type": "markdown",
   "id": "3a30c25e-2111-4fc5-b5ef-e0a5ca80d7cc",
   "metadata": {},
   "source": [
    "# Using `seaborn`\n",
    "\n",
    "* seaborn is built on top of matplotlib\n",
    "* advantage: cleaner output, simpler syntax, integrate well with dataframe\n",
    "* both are visualization library, but different library has different \"rules\""
   ]
  },
  {
   "cell_type": "code",
   "execution_count": null,
   "id": "d6c51042-71fa-41af-bf31-97018a2b2b5a",
   "metadata": {},
   "outputs": [],
   "source": [
    "# setup\n",
    "# Create an array with the colors you want to use\n",
    "colors = [\"#69b3a2\", \"#4374B3\"]\n",
    "sns.set_palette(sns.color_palette(colors))\n",
    "\n",
    "# or set style\n",
    "sns.set_style(\"darkgrid\")\n",
    "\n",
    "# Set the figure size\n",
    "plt.figure(figsize=(10, 10))"
   ]
  },
  {
   "cell_type": "markdown",
   "id": "779f289c-312b-47de-a35b-d08f3d316b7f",
   "metadata": {},
   "source": [
    "## How Seaborn is structured\n",
    "\n",
    "* **`Relplot`** - to show the relationship between two variables\n",
    "    * `scatterplot()` (with kind=\"scatter\"; the default)\n",
    "    * `lineplot()` (with kind=\"line\")\n",
    "\n",
    "Documentation: https://seaborn.pydata.org/generated/seaborn.relplot.html#seaborn.relplot\n",
    "\n",
    "* **`Catplot`** - show the relationship between a numerical and one or more categorical variables\n",
    "    * Categorical scatterplots:\n",
    "        * `stripplot()` (with kind=\"strip\"; the default)\n",
    "        * `swarmplot()` (with kind=\"swarm\")\n",
    "    * Categorical distribution plots:\n",
    "        * `boxplot()` (with kind=\"box\")\n",
    "        * `violinplot()` (with kind=\"violin\")\n",
    "        * `boxenplot()` (with kind=\"boxen\")\n",
    "    * Categorical estimate plots:\n",
    "        * `pointplot()` (with kind=\"point\")\n",
    "        * `barplot()` (with kind=\"bar\")\n",
    "        * `countplot()` (with kind=\"count\")\n",
    "\n",
    "Documentation: https://seaborn.pydata.org/generated/seaborn.catplot.html#seaborn.catplot\n",
    "\n",
    "* **`Displot`** - show the distribution of data points across a range\n",
    "    * `histplot` (with kind=\"hist\"; the default)\n",
    "    * `kdeplot` (with kind=\"kde\")\n",
    "    * `ecdfplot` (with kind=\"ecdf\"; univariate-only)\n",
    "    * `rugplot` can be added to any kind of plot to show individual observations.\n",
    "\n",
    "Documentation: https://seaborn.pydata.org/generated/seaborn.displot.html#seaborn.displot"
   ]
  },
  {
   "cell_type": "markdown",
   "id": "b58a3ae1-2906-4c83-91eb-2cb4892c28f0",
   "metadata": {
    "tags": []
   },
   "source": [
    "## Relplots"
   ]
  },
  {
   "cell_type": "code",
   "execution_count": null,
   "id": "6f2f0423-da55-4965-acd5-3269e514cef4",
   "metadata": {},
   "outputs": [],
   "source": []
  },
  {
   "cell_type": "markdown",
   "id": "a637d81e-1273-4e13-8d95-b337698f9fc3",
   "metadata": {
    "tags": []
   },
   "source": [
    "## Catplots"
   ]
  },
  {
   "cell_type": "code",
   "execution_count": null,
   "id": "8c22a72c-14a0-4d98-82c7-78c0458acc75",
   "metadata": {},
   "outputs": [],
   "source": []
  },
  {
   "cell_type": "markdown",
   "id": "606abf30-b404-41e6-bee8-9c5172eca8a0",
   "metadata": {},
   "source": [
    "## Displots"
   ]
  },
  {
   "cell_type": "code",
   "execution_count": null,
   "id": "b2ab7562-271c-4562-a5e8-035872f00153",
   "metadata": {},
   "outputs": [],
   "source": []
  },
  {
   "cell_type": "markdown",
   "id": "a146286e-844f-40d6-b050-e83cc060e2ba",
   "metadata": {
    "tags": []
   },
   "source": [
    "## Seaborn themes\n",
    "\n",
    "more here: https://seaborn.pydata.org/tutorial/color_palettes.html"
   ]
  },
  {
   "cell_type": "code",
   "execution_count": null,
   "id": "3f24c45c-5c45-46e0-919b-c86e4400795f",
   "metadata": {},
   "outputs": [],
   "source": [
    "sns.color_palette(\"colorblind\")"
   ]
  },
  {
   "cell_type": "code",
   "execution_count": null,
   "id": "cf685b28-263d-4f00-b484-00c1c09349e0",
   "metadata": {},
   "outputs": [],
   "source": [
    "sns.color_palette(\"rocket\", as_cmap=True)"
   ]
  },
  {
   "cell_type": "code",
   "execution_count": null,
   "id": "d084b0f6-b2a2-47ab-bb92-c85c349bd4d9",
   "metadata": {},
   "outputs": [],
   "source": [
    "#setting pallete:\n",
    "sns.set_palette(\"colorblind\")"
   ]
  },
  {
   "cell_type": "markdown",
   "id": "ae5c7628-bb80-415f-a24f-065fdb7cf00d",
   "metadata": {},
   "source": [
    "# Extra: Candlestick chart"
   ]
  },
  {
   "cell_type": "code",
   "execution_count": null,
   "id": "2b6dd458-ee40-4a73-bc54-c7f4950cd8db",
   "metadata": {},
   "outputs": [],
   "source": [
    "pip install plotly # this will take a while to install!"
   ]
  },
  {
   "cell_type": "code",
   "execution_count": null,
   "id": "627a0e6e-8f82-4f7f-8f4c-cc406918ab50",
   "metadata": {},
   "outputs": [],
   "source": [
    "import plotly.graph_objects as go\n",
    "import plotly.io as pio\n",
    "pio.renderers.default = \"iframe\""
   ]
  },
  {
   "cell_type": "code",
   "execution_count": null,
   "id": "8200be68-12d4-4bc8-9970-35d491f04536",
   "metadata": {},
   "outputs": [],
   "source": [
    "candlestick = go.Candlestick(\n",
    "                    x=nflx.index,\n",
    "                    open=nflx['Open'],\n",
    "                    high=nflx['High'],\n",
    "                    low=nflx['Low'],\n",
    "                    close=nflx['Close']\n",
    "                )\n",
    "\n",
    "fig = go.Figure(data=[candlestick])\n",
    "\n",
    "fig.show()"
   ]
  },
  {
   "cell_type": "markdown",
   "id": "cb6d7e45-0b84-41aa-9034-6edc56e0e630",
   "metadata": {},
   "source": [
    "## Exercises\n",
    "- Try to recreate some of the charts above with your own data! What kind of chart do you think is best for your data?"
   ]
  }
 ],
 "metadata": {
  "kernelspec": {
   "display_name": "Python 3 (ipykernel)",
   "language": "python",
   "name": "python3"
  },
  "language_info": {
   "codemirror_mode": {
    "name": "ipython",
    "version": 3
   },
   "file_extension": ".py",
   "mimetype": "text/x-python",
   "name": "python",
   "nbconvert_exporter": "python",
   "pygments_lexer": "ipython3",
   "version": "3.9.7"
  }
 },
 "nbformat": 4,
 "nbformat_minor": 5
}
